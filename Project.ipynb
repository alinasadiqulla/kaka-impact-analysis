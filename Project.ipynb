{
 "cells": [
  {
   "cell_type": "markdown",
   "id": "8b08f0cc-0e1a-4e07-9ac6-635b3dcd2a72",
   "metadata": {},
   "source": [
    "# Final Project: Kaká's Impact on AC Milan\n",
    "Ricardo Kaká's impact on AC Milan's performance using data from the European Soccer Database"
   ]
  },
  {
   "cell_type": "markdown",
   "id": "2565651e-5714-490c-8097-a95cf3d3c626",
   "metadata": {},
   "source": [
    "#1 : import necessary files\n",
    "#2 : connect to the SQLite database\n",
    "#3 : see all the tables in the file so we can figure out which we need"
   ]
  },
  {
   "cell_type": "code",
   "execution_count": 3,
   "id": "4b0cbdb1-a8cf-4471-b4b1-9a9ea6d7af75",
   "metadata": {},
   "outputs": [
    {
     "name": "stdout",
     "output_type": "stream",
     "text": [
      "                name\n",
      "0    sqlite_sequence\n",
      "1  Player_Attributes\n",
      "2             Player\n",
      "3              Match\n",
      "4             League\n",
      "5            Country\n",
      "6               Team\n",
      "7    Team_Attributes\n"
     ]
    }
   ],
   "source": [
    "#1\n",
    "import sqlite3 \n",
    "import pandas as pd\n",
    "import matplotlib.pyplot as plt\n",
    "#2\n",
    "conn = sqlite3.connect(\"soccer.sqlite\") \n",
    "#3\n",
    "tables = pd.read_sql(\"SELECT name FROM sqlite_master WHERE type='table';\", conn) \n",
    "\n",
    "print(tables)"
   ]
  },
  {
   "cell_type": "code",
   "execution_count": 5,
   "id": "0653ddea-2bb1-4146-baed-129a6337a6d7",
   "metadata": {},
   "outputs": [
    {
     "name": "stdout",
     "output_type": "stream",
     "text": [
      "Index(['id', 'player_api_id', 'player_name', 'player_fifa_api_id', 'birthday',\n",
      "       'height', 'weight'],\n",
      "      dtype='object')\n",
      "\n",
      "Index(['id', 'team_api_id', 'team_fifa_api_id', 'team_long_name',\n",
      "       'team_short_name'],\n",
      "      dtype='object')\n",
      "\n",
      "matches ['id', 'country_id', 'league_id', 'season', 'stage', 'date', 'match_api_id', 'home_team_api_id', 'away_team_api_id', 'home_team_goal', 'away_team_goal', 'home_player_X1', 'home_player_X2', 'home_player_X3', 'home_player_X4', 'home_player_X5', 'home_player_X6', 'home_player_X7', 'home_player_X8', 'home_player_X9', 'home_player_X10', 'home_player_X11', 'away_player_X1', 'away_player_X2', 'away_player_X3', 'away_player_X4', 'away_player_X5', 'away_player_X6', 'away_player_X7', 'away_player_X8', 'away_player_X9', 'away_player_X10', 'away_player_X11', 'home_player_Y1', 'home_player_Y2', 'home_player_Y3', 'home_player_Y4', 'home_player_Y5', 'home_player_Y6', 'home_player_Y7', 'home_player_Y8', 'home_player_Y9', 'home_player_Y10', 'home_player_Y11', 'away_player_Y1', 'away_player_Y2', 'away_player_Y3', 'away_player_Y4', 'away_player_Y5', 'away_player_Y6', 'away_player_Y7', 'away_player_Y8', 'away_player_Y9', 'away_player_Y10', 'away_player_Y11', 'home_player_1', 'home_player_2', 'home_player_3', 'home_player_4', 'home_player_5', 'home_player_6', 'home_player_7', 'home_player_8', 'home_player_9', 'home_player_10', 'home_player_11', 'away_player_1', 'away_player_2', 'away_player_3', 'away_player_4', 'away_player_5', 'away_player_6', 'away_player_7', 'away_player_8', 'away_player_9', 'away_player_10', 'away_player_11', 'goal', 'shoton', 'shotoff', 'foulcommit', 'card', 'cross', 'corner', 'possession', 'B365H', 'B365D', 'B365A', 'BWH', 'BWD', 'BWA', 'IWH', 'IWD', 'IWA', 'LBH', 'LBD', 'LBA', 'PSH', 'PSD', 'PSA', 'WHH', 'WHD', 'WHA', 'SJH', 'SJD', 'SJA', 'VCH', 'VCD', 'VCA', 'GBH', 'GBD', 'GBA', 'BSH', 'BSD', 'BSA']\n",
      "\n"
     ]
    }
   ],
   "source": [
    "#these are the necessary tables we need to figure out Kaka's performance at his time in ACM\n",
    "players = pd.read_sql(\"SELECT * FROM Player\",conn)\n",
    "team = pd.read_sql(\"SELECT * FROM Team\", conn)\n",
    "matches = pd.read_sql(\"SELECT * FROM Match\", conn)\n",
    "\n",
    "print(players.columns)\n",
    "print()\n",
    "print(team.columns)\n",
    "print()\n",
    "print(\"matches\",matches.columns.tolist()) #to list so it prints out all values possible\n",
    "print()"
   ]
  },
  {
   "cell_type": "markdown",
   "id": "ba308f86-bea8-4364-95e2-31bee2c65c89",
   "metadata": {},
   "source": [
    "# Filtering the teams and assigning ACM"
   ]
  },
  {
   "cell_type": "code",
   "execution_count": 6,
   "id": "e0147dce-eb89-4c41-8041-860d43ec084f",
   "metadata": {},
   "outputs": [
    {
     "data": {
      "text/html": [
       "<div>\n",
       "<style scoped>\n",
       "    .dataframe tbody tr th:only-of-type {\n",
       "        vertical-align: middle;\n",
       "    }\n",
       "\n",
       "    .dataframe tbody tr th {\n",
       "        vertical-align: top;\n",
       "    }\n",
       "\n",
       "    .dataframe thead th {\n",
       "        text-align: right;\n",
       "    }\n",
       "</style>\n",
       "<table border=\"1\" class=\"dataframe\">\n",
       "  <thead>\n",
       "    <tr style=\"text-align: right;\">\n",
       "      <th></th>\n",
       "      <th>id</th>\n",
       "      <th>team_api_id</th>\n",
       "      <th>team_fifa_api_id</th>\n",
       "      <th>team_long_name</th>\n",
       "      <th>team_short_name</th>\n",
       "    </tr>\n",
       "  </thead>\n",
       "  <tbody>\n",
       "    <tr>\n",
       "      <th>134</th>\n",
       "      <td>20523</td>\n",
       "      <td>8564</td>\n",
       "      <td>47.0</td>\n",
       "      <td>Milan</td>\n",
       "      <td>ACM</td>\n",
       "    </tr>\n",
       "  </tbody>\n",
       "</table>\n",
       "</div>"
      ],
      "text/plain": [
       "        id  team_api_id  team_fifa_api_id team_long_name team_short_name\n",
       "134  20523         8564              47.0          Milan             ACM"
      ]
     },
     "execution_count": 6,
     "metadata": {},
     "output_type": "execute_result"
    }
   ],
   "source": [
    "#Filtering it and assinging acm \n",
    "acm = team[team['team_long_name'].str.contains(\"Milan\")]\n",
    "acm"
   ]
  },
  {
   "cell_type": "code",
   "execution_count": 9,
   "id": "634b4275-6511-4e92-aa21-0c2fa52dfdad",
   "metadata": {},
   "outputs": [
    {
     "data": {
      "text/plain": [
       "8564"
      ]
     },
     "execution_count": 9,
     "metadata": {},
     "output_type": "execute_result"
    }
   ],
   "source": [
    "#acm is the whole table we only want to be comparing one value in case other teams that also contain Milan are there \n",
    "milan_id = int(acm[\"team_api_id\"].values[0]) #since the first value in the table is what we want [0]\n",
    "\n",
    "milan_id"
   ]
  },
  {
   "cell_type": "markdown",
   "id": "d005fcb1-c92f-48f7-8254-af7cc6c61a61",
   "metadata": {},
   "source": [
    "# Finding Kaká in the Player table and getting important attributes"
   ]
  },
  {
   "cell_type": "code",
   "execution_count": 11,
   "id": "3d41f4a0-cea7-4610-bbf3-eef18b72f9d2",
   "metadata": {},
   "outputs": [
    {
     "name": "stdout",
     "output_type": "stream",
     "text": [
      "        id  player_api_id          player_name  player_fifa_api_id  \\\n",
      "5585  5592          41044                 Kaka              138449   \n",
      "5586  5593          45352                 Kaka              178056   \n",
      "9922  9938          27696  Stefano Okaka Chuka              178091   \n",
      "\n",
      "                 birthday  height  weight  \n",
      "5585  1982-04-22 00:00:00  185.42     183  \n",
      "5586  1981-05-16 00:00:00  185.42     174  \n",
      "9922  1989-08-09 00:00:00  185.42     198  \n"
     ]
    }
   ],
   "source": [
    "# Find Kaká in the Player table\n",
    "kaka = players[players[\"player_name\"].str.contains(\"Kaka\", case=False)]\n",
    "print(kaka)\n"
   ]
  },
  {
   "cell_type": "markdown",
   "id": "594cf5e8-aa6d-42bb-86f0-b284e9d76344",
   "metadata": {},
   "source": [
    "Printing out Kaka based on the api number since there are multiple with the name \"kaka\""
   ]
  },
  {
   "cell_type": "code",
   "execution_count": 13,
   "id": "0db2c28d-a2c4-48fe-bd5f-0b187ae620c6",
   "metadata": {},
   "outputs": [],
   "source": [
    "kaka_id = int(kaka[\"player_api_id\"].iloc[0])\n",
    "#printing out kaka based on the api number since there are multiple with the name \"kaka\""
   ]
  },
  {
   "cell_type": "markdown",
   "id": "5be25dbb-d009-4bfa-b1da-169cadda767b",
   "metadata": {},
   "source": [
    "# Filter out matches where AC Milan was a home or an away team"
   ]
  },
  {
   "cell_type": "code",
   "execution_count": 15,
   "id": "0240b193-401c-4bea-ae72-aed11fee0338",
   "metadata": {},
   "outputs": [
    {
     "name": "stdout",
     "output_type": "stream",
     "text": [
      "Total AC Milan matches: 303\n"
     ]
    }
   ],
   "source": [
    "milan_matches = matches[(matches[\"home_team_api_id\"] == milan_id)|(matches[\"away_team_api_id\"] == milan_id)]\n",
    "\n",
    "# Check how many matches we found\n",
    "print(\"Total AC Milan matches:\", len(milan_matches))"
   ]
  },
  {
   "cell_type": "markdown",
   "id": "604dcbd6-8d57-46ac-a8fd-c9a0f11f9f75",
   "metadata": {},
   "source": [
    "# See which matches Kaka played in "
   ]
  },
  {
   "cell_type": "markdown",
   "id": "a6422246-b001-483c-b354-9cd8f2e45a4d",
   "metadata": {},
   "source": [
    "Since there are many unessary values in the matches table we will create one that helps filter it out "
   ]
  },
  {
   "cell_type": "code",
   "execution_count": 21,
   "id": "dd6ab413-9546-4d32-a1ff-928e5894dfff",
   "metadata": {},
   "outputs": [],
   "source": [
    "player_cols = [\n",
    "    'home_player_1', 'home_player_2', 'home_player_3', 'home_player_4', 'home_player_5',\n",
    "    'home_player_6', 'home_player_7', 'home_player_8', 'home_player_9', 'home_player_10', 'home_player_11',\n",
    "    'away_player_1', 'away_player_2', 'away_player_3', 'away_player_4', 'away_player_5',\n",
    "    'away_player_6', 'away_player_7', 'away_player_8', 'away_player_9', 'away_player_10', 'away_player_11'\n",
    "]\n",
    "#There are in total 22 players per match we will see if Kaka was one of these players "
   ]
  },
  {
   "cell_type": "markdown",
   "id": "4f2b26ff-04e2-4b8f-b721-b7ffa982129f",
   "metadata": {},
   "source": [
    "This code is checking whether Kaká played in each match and adding a new column (kaka_played) to the milan_matches DataFrame. This column will contain True if Kaká played in the match and False if he didn’t."
   ]
  },
  {
   "cell_type": "code",
   "execution_count": 33,
   "id": "89676395-fe82-4362-952a-4190d5c805a3",
   "metadata": {},
   "outputs": [
    {
     "name": "stdout",
     "output_type": "stream",
     "text": [
      "                      date  home_team_goal  away_team_goal  kaka_played\n",
      "10261  2008-08-31 00:00:00               1               2        False\n",
      "10271  2008-11-02 00:00:00               1               0         True\n",
      "10279  2008-11-09 00:00:00               1               1         True\n",
      "10291  2008-11-16 00:00:00               1               0         True\n",
      "10305  2008-11-23 00:00:00               2               2         True\n"
     ]
    }
   ],
   "source": [
    "kaka_played = []  # initializing a list to store True/False values\n",
    "\n",
    "# Loop through all matches\n",
    "for i in range(len(milan_matches)):\n",
    "    row = milan_matches.iloc[i]  # Get one match row\n",
    "    players_in_match = row[player_cols].tolist()  # Convert player columns to list\n",
    "    #Purpose: You need to get the player IDs for each match to check if Kaká played.\n",
    "    \n",
    "    # Check if Kaká's ID is in the list of players\n",
    "    if kaka_id in players_in_match:\n",
    "        kaka_played.append(True)\n",
    "    else:\n",
    "        kaka_played.append(False)\n",
    "\n",
    "# Use .loc to add the new column if Kaka played\n",
    "milan_matches.loc[:, \"kaka_played\"] = kaka_played  \n",
    "\n",
    "# Check the first few rows to ensure it worked\n",
    "print(milan_matches[[\"date\", \"home_team_goal\", \"away_team_goal\", \"kaka_played\"]].head())\n"
   ]
  },
  {
   "cell_type": "markdown",
   "id": "85fd5af7-1fc9-4a87-a81f-ff7fdf964d91",
   "metadata": {},
   "source": [
    "# T-Test to compare the goals with and without Kaka"
   ]
  },
  {
   "cell_type": "code",
   "execution_count": 27,
   "id": "4ef52ca5-8313-4c60-9882-cb31a7ce36c2",
   "metadata": {},
   "outputs": [
    {
     "name": "stdout",
     "output_type": "stream",
     "text": [
      "T-statistic: -0.19528123669512978\n",
      "P-value: 0.845304538344504\n",
      "There is no significant difference in goals with and without Kaká.\n"
     ]
    }
   ],
   "source": [
    "from scipy.stats import ttest_ind\n",
    "\n",
    "# Separate the matches where Kaká played and where he didn’t so we can compare the data\n",
    "milan_with_kaka = milan_matches[milan_matches[\"kaka_played\"] == True]\n",
    "milan_without_kaka = milan_matches[milan_matches[\"kaka_played\"] == False]\n",
    "\n",
    "# Perform a t-test to compare the goal averages for both groups\n",
    "t_stat, p_value = ttest_ind(milan_with_kaka[\"home_team_goal\"], milan_without_kaka[\"home_team_goal\"])\n",
    "\n",
    "# Print the t-test result\n",
    "print(f'T-statistic: {t_stat}')\n",
    "print(f'P-value: {p_value}')\n",
    "\n",
    "# Interpretation of the results\n",
    "if p_value < 0.05:\n",
    "    print(\"There is a significant difference in goals with and without Kaká.\")\n",
    "else:\n",
    "    print(\"There is no significant difference in goals with and without Kaká.\")\n",
    "#Null hypothesis: There is no significant difference in the number of goals scored by AC Milan when Kaká played and when Kaká didn’t play."
   ]
  },
  {
   "cell_type": "markdown",
   "id": "ac510d6d-6de9-4657-9a41-619553fc7484",
   "metadata": {},
   "source": [
    "# Calculate the Correlation "
   ]
  },
  {
   "cell_type": "code",
   "execution_count": 255,
   "id": "19ce09eb-ff04-4dca-bc4f-b3bb44f4c749",
   "metadata": {},
   "outputs": [
    {
     "data": {
      "text/plain": [
       "-0.011255110406431507"
      ]
     },
     "execution_count": 255,
     "metadata": {},
     "output_type": "execute_result"
    }
   ],
   "source": [
    "# Calculate correlation between Kaká's presence and goals\n",
    "correlation = milan_matches[\"home_team_goal\"].corr(milan_matches[\"kaka_played\"])\n",
    "correlation"
   ]
  },
  {
   "cell_type": "markdown",
   "id": "07b4381f-7525-42e4-a26c-e78a5d9bbec3",
   "metadata": {},
   "source": [
    "# Plot the Data"
   ]
  },
  {
   "cell_type": "code",
   "execution_count": 37,
   "id": "9b65bdde-7ad6-42a9-86b5-e9587c62af23",
   "metadata": {},
   "outputs": [
    {
     "data": {
      "image/png": "[encoded data removed]",
      "text/plain": [
       "<Figure size 640x480 with 1 Axes>"
      ]
     },
     "metadata": {},
     "output_type": "display_data"
    }
   ],
   "source": [
    "# Data for plotting\n",
    "categories = ['With Kaká', 'Without Kaká']\n",
    "avg_goals = [milan_with_kaka[\"home_team_goal\"].mean(), milan_without_kaka[\"home_team_goal\"].mean()]\n",
    "\n",
    "# Plotting\n",
    "plt.bar(categories, avg_goals, color=['black', 'red'])\n",
    "plt.xlabel('Kaká\\'s Presence')\n",
    "plt.ylabel('Average Goals Scored')\n",
    "plt.title('Average Goals Scored by AC Milan With and Without Kaká')\n",
    "plt.show()"
   ]
  },
  {
   "cell_type": "markdown",
   "id": "e7804e80-3d6a-4715-9b2e-5e80df4d497f",
   "metadata": {},
   "source": [
    "# Logistic Regression "
   ]
  },
  {
   "cell_type": "code",
   "execution_count": 35,
   "id": "b49025a0-d4ec-4890-8cfc-1bb970b0f8d8",
   "metadata": {},
   "outputs": [
    {
     "name": "stdout",
     "output_type": "stream",
     "text": [
      "Accuracy of the Logistic Regression model: 0.47540983606557374\n"
     ]
    }
   ],
   "source": [
    "from sklearn.linear_model import LogisticRegression\n",
    "from sklearn.model_selection import train_test_split\n",
    "from sklearn.metrics import accuracy_score\n",
    "\n",
    "# Step 2: Prepare the data\n",
    "X = milan_matches[['kaka_played']]  # Feature: Kaká's presence (binary: 1 if Kaká played, 0 if not)\n",
    "y = milan_matches['home_team_goal'] > milan_matches['away_team_goal']  # Target: Win (1) or Loss (0)\n",
    "\n",
    "# Step 3: Split the data into training and testing sets (80% train, 20% test)\n",
    "X_train, X_test, y_train, y_test = train_test_split(X, y, test_size=0.2, random_state=42)\n",
    "\n",
    "# Step 4: Train the logistic regression model\n",
    "model = LogisticRegression()\n",
    "model.fit(X_train, y_train)\n",
    "\n",
    "# Step 5: Make predictions on the test set\n",
    "y_pred = model.predict(X_test)\n",
    "\n",
    "# Step 6: Evaluate the model’s accuracy\n",
    "accuracy = accuracy_score(y_test, y_pred)\n",
    "\n",
    "# Step 7: Print the accuracy\n",
    "print(f'Accuracy of the Logistic Regression model: {accuracy}')\n"
   ]
  }
 ],
 "metadata": {
  "kernelspec": {
   "display_name": "Python [conda env:base] *",
   "language": "python",
   "name": "conda-base-py"
  },
  "language_info": {
   "codemirror_mode": {
    "name": "ipython",
    "version": 3
   },
   "file_extension": ".py",
   "mimetype": "text/x-python",
   "name": "python",
   "nbconvert_exporter": "python",
   "pygments_lexer": "ipython3",
   "version": "3.12.7"
  }
 },
 "nbformat": 4,
 "nbformat_minor": 5
}
